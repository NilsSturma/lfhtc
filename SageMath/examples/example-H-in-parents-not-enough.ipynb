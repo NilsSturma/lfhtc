{
 "cells": [
  {
   "cell_type": "markdown",
   "metadata": {},
   "source": [
    "This example shows that considering H as a subset of pa_V(L) is not enough"
   ]
  },
  {
   "cell_type": "code",
   "execution_count": 2,
   "metadata": {},
   "outputs": [],
   "source": [
    "import json\n",
    "import numpy as np\n",
    "import pandas as pd\n",
    "\n",
    "load('utils.sage')\n",
    "load('check-latent-factor-graph.sage')"
   ]
  },
  {
   "cell_type": "code",
   "execution_count": 3,
   "metadata": {},
   "outputs": [
    {
     "data": {
      "text/plain": [
       "True"
      ]
     },
     "execution_count": 3,
     "metadata": {},
     "output_type": "execute_result"
    }
   ],
   "source": [
    "GammaAdjMatrix = np.transpose(np.array([[1, 1, 1, 1, 1, 1],\n",
    "                                        [1, 0, 0, 1, 1, 1]]))\n",
    "\n",
    "adjMatrix = np.array([[0, 0, 0, 0, 0, 0],\n",
    "                      [0, 0, 1, 0, 0, 0], \n",
    "                      [0, 0, 0, 0, 0, 0], \n",
    "                      [0, 0, 0, 0, 0, 0], \n",
    "                      [0, 0, 0, 0, 0, 0],\n",
    "                      [0, 0, 0, 0, 0, 0]]).flatten().tolist()\n",
    "G = {\"edges\": 2, \"adjMatrix\": adjMatrix}\n",
    "\n",
    "# Generate vanishing ideal of the variety containing the parametrization of Omega\n",
    "I_Omega, basis_Omega = get_vanishing_ideal_Omega(GammaAdjMatrix)\n",
    "\n",
    "g = check_graph(G, GammaAdjMatrix, basis_Omega)\n",
    "g[\"identifiable\"]"
   ]
  }
 ],
 "metadata": {
  "kernelspec": {
   "display_name": "SageMath 9.6",
   "language": "sage",
   "name": "sagemath"
  },
  "language_info": {
   "codemirror_mode": {
    "name": "ipython",
    "version": 3
   },
   "file_extension": ".py",
   "mimetype": "text/x-python",
   "name": "python",
   "nbconvert_exporter": "python",
   "pygments_lexer": "ipython3",
   "version": "3.9.13"
  }
 },
 "nbformat": 4,
 "nbformat_minor": 4
}
