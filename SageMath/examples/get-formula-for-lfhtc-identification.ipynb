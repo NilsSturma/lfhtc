{
 "cells": [
  {
   "cell_type": "markdown",
   "metadata": {},
   "source": [
    "This is a simple example, showing how the main theorem can be used to find an identifiaction formula of a directed effect."
   ]
  },
  {
   "cell_type": "code",
   "execution_count": 1,
   "metadata": {},
   "outputs": [],
   "source": [
    "import numpy as np"
   ]
  },
  {
   "cell_type": "code",
   "execution_count": 2,
   "metadata": {},
   "outputs": [
    {
     "name": "stdout",
     "output_type": "stream",
     "text": [
      "Defining l34, g1, g2, g3, g4, w1, w2, w3, w4, s11, s12, s13, s14, s22, s23, s24, s33, s34, s44\n"
     ]
    }
   ],
   "source": [
    "n = 19\n",
    "order = 'deglex(1),deglex(4),deglex(4),deglex(10)' # block-monomial order\n",
    "R.<l34, g1,g2,g3,g4, w1,w2,w3,w4, s11,s12,s13,s14,s22,s23,s24,s33,s34,s44> = PolynomialRing(QQ, n, order=order)\n",
    "R.inject_variables()"
   ]
  },
  {
   "cell_type": "code",
   "execution_count": 3,
   "metadata": {},
   "outputs": [
    {
     "data": {
      "text/plain": [
       "[  0   0   0   0]\n",
       "[  0   0   0   0]\n",
       "[  0   0   0 l34]\n",
       "[  0   0   0   0]"
      ]
     },
     "execution_count": 3,
     "metadata": {},
     "output_type": "execute_result"
    }
   ],
   "source": [
    "Lambda = matrix([[0,0,0,0],\n",
    "                 [0,0,0,0],\n",
    "                 [0,0,0,l34],\n",
    "                 [0,0,0,0]])\n",
    "Lambda"
   ]
  },
  {
   "cell_type": "code",
   "execution_count": 4,
   "metadata": {},
   "outputs": [
    {
     "data": {
      "text/plain": [
       "[s11 s12 s13 s14]\n",
       "[s12 s22 s23 s24]\n",
       "[s13 s23 s33 s34]\n",
       "[s14 s24 s34 s44]"
      ]
     },
     "execution_count": 4,
     "metadata": {},
     "output_type": "execute_result"
    }
   ],
   "source": [
    "Sigma = matrix([[s11,s12,s13,s14],\n",
    "                [s12,s22,s23,s24],\n",
    "                [s13,s23,s33,s34],\n",
    "                [s14,s24,s34,s44]])\n",
    "Sigma"
   ]
  },
  {
   "cell_type": "code",
   "execution_count": 5,
   "metadata": {},
   "outputs": [
    {
     "data": {
      "text/plain": [
       "[1 0 0 0]\n",
       "[0 1 0 0]\n",
       "[0 0 1 0]\n",
       "[0 0 0 1]"
      ]
     },
     "execution_count": 5,
     "metadata": {},
     "output_type": "execute_result"
    }
   ],
   "source": [
    "Id = identity_matrix(4)\n",
    "Id"
   ]
  },
  {
   "cell_type": "code",
   "execution_count": 6,
   "metadata": {},
   "outputs": [],
   "source": [
    "v = 4\n",
    "Y = [2,3]\n",
    "Z = 1\n",
    "pa = 3"
   ]
  },
  {
   "cell_type": "code",
   "execution_count": 7,
   "metadata": {},
   "outputs": [],
   "source": [
    "# Start numbering at zero\n",
    "v = v-1\n",
    "Y = [x-1 for x in Y]\n",
    "Z = Z-1\n",
    "pa = pa-1"
   ]
  },
  {
   "cell_type": "code",
   "execution_count": 8,
   "metadata": {},
   "outputs": [],
   "source": [
    "A = Sigma[Y, pa]\n",
    "B = (Sigma * (Id-Lambda))[Y,Z]\n",
    "c = Sigma[Y,v]"
   ]
  },
  {
   "cell_type": "code",
   "execution_count": 9,
   "metadata": {},
   "outputs": [
    {
     "data": {
      "text/plain": [
       "[s23|s12]\n",
       "[s33|s13]"
      ]
     },
     "execution_count": 9,
     "metadata": {},
     "output_type": "execute_result"
    }
   ],
   "source": [
    "M = block_matrix([[A,B]])\n",
    "M"
   ]
  },
  {
   "cell_type": "code",
   "execution_count": 10,
   "metadata": {},
   "outputs": [
    {
     "data": {
      "text/plain": [
       "((s12*s34 - s13*s24)/(s12*s33 - s13*s23))"
      ]
     },
     "execution_count": 10,
     "metadata": {},
     "output_type": "execute_result"
    }
   ],
   "source": [
    "(M.inverse() * c)[0]"
   ]
  },
  {
   "cell_type": "code",
   "execution_count": 11,
   "metadata": {},
   "outputs": [
    {
     "data": {
      "text/plain": [
       "[s23]\n",
       "[s33]"
      ]
     },
     "execution_count": 11,
     "metadata": {},
     "output_type": "execute_result"
    }
   ],
   "source": [
    "A"
   ]
  },
  {
   "cell_type": "code",
   "execution_count": null,
   "metadata": {},
   "outputs": [],
   "source": []
  }
 ],
 "metadata": {
  "kernelspec": {
   "display_name": "SageMath 9.6",
   "language": "sage",
   "name": "sagemath"
  },
  "language_info": {
   "codemirror_mode": {
    "name": "ipython",
    "version": 3
   },
   "file_extension": ".py",
   "mimetype": "text/x-python",
   "name": "python",
   "nbconvert_exporter": "python",
   "pygments_lexer": "ipython3",
   "version": "3.9.13"
  }
 },
 "nbformat": 4,
 "nbformat_minor": 4
}
