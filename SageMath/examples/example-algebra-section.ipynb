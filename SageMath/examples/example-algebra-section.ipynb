{
 "cells": [
  {
   "cell_type": "code",
   "execution_count": 1,
   "metadata": {},
   "outputs": [],
   "source": [
    "import json\n",
    "import numpy as np\n",
    "import pandas as pd\n",
    "\n",
    "load('utils.sage')"
   ]
  },
  {
   "cell_type": "markdown",
   "metadata": {},
   "source": [
    "### Compute vanishing ideal of tau(S)"
   ]
  },
  {
   "cell_type": "code",
   "execution_count": 2,
   "metadata": {},
   "outputs": [
    {
     "data": {
      "text/plain": [
       "[w12*w34 - w14*w23, w13*w24 - w14*w23, w15, w16, w25, w26, w35, w36]"
      ]
     },
     "execution_count": 2,
     "metadata": {},
     "output_type": "execute_result"
    }
   ],
   "source": [
    "GammaAdjMatrix = np.array([[1, 0],\n",
    "                           [1, 0],\n",
    "                           [1, 0],\n",
    "                           [1, 1],\n",
    "                           [0, 1],\n",
    "                           [0, 1]])\n",
    "\n",
    "I_Omega, basis_Omega = get_vanishing_ideal_Omega(GammaAdjMatrix)\n",
    "basis_Omega"
   ]
  },
  {
   "cell_type": "markdown",
   "metadata": {},
   "source": [
    "### Compute polynomials psi(lambda, sigma)"
   ]
  },
  {
   "cell_type": "code",
   "execution_count": 3,
   "metadata": {},
   "outputs": [
    {
     "name": "stdout",
     "output_type": "stream",
     "text": [
      "Defining xi, l12, l23, l45, l46, s11, s12, s13, s14, s15, s16, s22, s23, s24, s25, s26, s33, s34, s35, s36, s44, s45, s46, s55, s56, s66\n"
     ]
    }
   ],
   "source": [
    "n = 26\n",
    "order = 'deglex(1),deglex(4),deglex(21)' # block-monomial order\n",
    "R.<xi,l12,l23,l45,l46, s11,s12,s13,s14,s15,s16,s22,s23,s24,s25,s26,s33,s34,s35,s36,s44,s45,s46,s55,s56,s66> = PolynomialRing(QQ, n, order=order)\n",
    "R.inject_variables()"
   ]
  },
  {
   "cell_type": "code",
   "execution_count": 4,
   "metadata": {},
   "outputs": [
    {
     "data": {
      "text/plain": [
       "[  0 l12   0   0   0   0]\n",
       "[  0   0 l23   0   0   0]\n",
       "[  0   0   0   0   0   0]\n",
       "[  0   0   0   0 l45 l46]\n",
       "[  0   0   0   0   0   0]\n",
       "[  0   0   0   0   0   0]"
      ]
     },
     "execution_count": 4,
     "metadata": {},
     "output_type": "execute_result"
    }
   ],
   "source": [
    "Lambda = matrix([[0, l12, 0, 0, 0, 0],\n",
    "                 [0, 0, l23, 0, 0, 0], \n",
    "                 [0, 0, 0, 0, 0, 0], \n",
    "                 [0, 0, 0, 0, l45, l46], \n",
    "                 [0, 0, 0, 0, 0, 0], \n",
    "                 [0, 0, 0, 0, 0, 0]])\n",
    "Lambda"
   ]
  },
  {
   "cell_type": "code",
   "execution_count": 5,
   "metadata": {},
   "outputs": [
    {
     "data": {
      "text/plain": [
       "[s11 s12 s13 s14 s15 s16]\n",
       "[s12 s22 s23 s24 s25 s26]\n",
       "[s13 s23 s33 s34 s35 s36]\n",
       "[s14 s24 s34 s44 s45 s46]\n",
       "[s15 s25 s35 s45 s55 s56]\n",
       "[s16 s26 s36 s46 s56 s66]"
      ]
     },
     "execution_count": 5,
     "metadata": {},
     "output_type": "execute_result"
    }
   ],
   "source": [
    "Sigma = matrix([[s11,s12,s13,s14,s15,s16],\n",
    "                [s12,s22,s23,s24,s25,s26],\n",
    "                [s13,s23,s33,s34,s35,s36],\n",
    "                [s14,s24,s34,s44,s45,s46],\n",
    "                [s15,s25,s35,s45,s55,s56],\n",
    "                [s16,s26,s36,s46,s56,s66]])\n",
    "Sigma"
   ]
  },
  {
   "cell_type": "code",
   "execution_count": 6,
   "metadata": {},
   "outputs": [
    {
     "data": {
      "text/plain": [
       "[1 0 0 0 0 0]\n",
       "[0 1 0 0 0 0]\n",
       "[0 0 1 0 0 0]\n",
       "[0 0 0 1 0 0]\n",
       "[0 0 0 0 1 0]\n",
       "[0 0 0 0 0 1]"
      ]
     },
     "execution_count": 6,
     "metadata": {},
     "output_type": "execute_result"
    }
   ],
   "source": [
    "Id = identity_matrix(6)\n",
    "Id"
   ]
  },
  {
   "cell_type": "code",
   "execution_count": 7,
   "metadata": {},
   "outputs": [],
   "source": [
    "psi = (Id-Lambda).T * Sigma * (Id-Lambda)"
   ]
  },
  {
   "cell_type": "markdown",
   "metadata": {},
   "source": [
    "### Compute final Gröbner basis"
   ]
  },
  {
   "cell_type": "code",
   "execution_count": 8,
   "metadata": {},
   "outputs": [
    {
     "data": {
      "text/plain": [
       "[l12*l23*s11*s24 - l12*l23*s12*s14 - l12*s11*s34 + l12*s13*s14 - l23*s12*s24 + l23*s14*s22 + s12*s34 - s14*s23,\n",
       " -l23*s12*s24 + l23*s14*s22 + s13*s24 - s14*s23,\n",
       " -l45*s14 + s15,\n",
       " -l46*s14 + s16,\n",
       " l12*l45*s14 - l12*s15 - l45*s24 + s25,\n",
       " l12*l46*s14 - l12*s16 - l46*s24 + s26,\n",
       " l23*l45*s24 - l23*s25 - l45*s34 + s35,\n",
       " l23*l46*s24 - l23*s26 - l46*s34 + s36,\n",
       " xi - 1]"
      ]
     },
     "execution_count": 8,
     "metadata": {},
     "output_type": "execute_result"
    }
   ],
   "source": [
    "generators = get_constraints(psi, basis_Omega)\n",
    "generators.append(xi * det((Id-Lambda))-1)\n",
    "generators"
   ]
  },
  {
   "cell_type": "code",
   "execution_count": 9,
   "metadata": {},
   "outputs": [
    {
     "data": {
      "text/plain": [
       "Polynomial Sequence with 33 Polynomials in 18 Variables"
      ]
     },
     "execution_count": 9,
     "metadata": {},
     "output_type": "execute_result"
    }
   ],
   "source": [
    "I = R.ideal(generators)\n",
    "I = I.elimination_ideal([xi]) \n",
    "basis = I.groebner_basis(algorithm=\"libsingular:groebner\")\n",
    "basis"
   ]
  },
  {
   "cell_type": "code",
   "execution_count": 10,
   "metadata": {},
   "outputs": [],
   "source": [
    "def is_identifiable(param,direct_effects,basis,R):\n",
    "    for i in range(0,len(basis)):\n",
    "        lm = basis[i].lm()\n",
    "        cond1 = R.monomial_divides(param, lm)\n",
    "        cond2 = (len(set(R.monomial_quotient(lm, param).variables()).intersection(set(direct_effects))) == 0)\n",
    "        if cond1 and cond2:\n",
    "            return({f\"{param} identifiable\": True, \"basis-polynomial\": basis[i]})\n",
    "    return({f\"{param} identifiable\": False})"
   ]
  },
  {
   "cell_type": "code",
   "execution_count": 11,
   "metadata": {},
   "outputs": [],
   "source": [
    "direct_effects = [l12,l23,l45,l46]"
   ]
  },
  {
   "cell_type": "code",
   "execution_count": 12,
   "metadata": {},
   "outputs": [
    {
     "data": {
      "text/plain": [
       "{'l12 identifiable': True,\n",
       " 'basis-polynomial': l12*s11*s12*s24*s34 - l12*s11*s13*s24^2 - l12*s11*s14*s22*s34 + l12*s11*s14*s23*s24 - l12*s12*s14^2*s23 + l12*s13*s14^2*s22 - s12^2*s24*s34 + s12*s13*s24^2 + s12*s14*s22*s34 - s13*s14*s22*s24}"
      ]
     },
     "execution_count": 12,
     "metadata": {},
     "output_type": "execute_result"
    }
   ],
   "source": [
    "is_identifiable(l12, direct_effects, basis,R)"
   ]
  },
  {
   "cell_type": "code",
   "execution_count": 13,
   "metadata": {},
   "outputs": [
    {
     "data": {
      "text/plain": [
       "{'l23 identifiable': True,\n",
       " 'basis-polynomial': l23*s12*s24 - l23*s14*s22 - s13*s24 + s14*s23}"
      ]
     },
     "execution_count": 13,
     "metadata": {},
     "output_type": "execute_result"
    }
   ],
   "source": [
    "is_identifiable(l23, direct_effects, basis,R)"
   ]
  },
  {
   "cell_type": "code",
   "execution_count": 14,
   "metadata": {},
   "outputs": [
    {
     "data": {
      "text/plain": [
       "{'l45 identifiable': True, 'basis-polynomial': l45*s14 - s15}"
      ]
     },
     "execution_count": 14,
     "metadata": {},
     "output_type": "execute_result"
    }
   ],
   "source": [
    "is_identifiable(l45, direct_effects, basis,R)"
   ]
  },
  {
   "cell_type": "code",
   "execution_count": 15,
   "metadata": {},
   "outputs": [
    {
     "data": {
      "text/plain": [
       "{'l46 identifiable': True, 'basis-polynomial': l46*s14 - s16}"
      ]
     },
     "execution_count": 15,
     "metadata": {},
     "output_type": "execute_result"
    }
   ],
   "source": [
    "is_identifiable(l46, direct_effects, basis,R)"
   ]
  },
  {
   "cell_type": "code",
   "execution_count": null,
   "metadata": {},
   "outputs": [],
   "source": []
  }
 ],
 "metadata": {
  "kernelspec": {
   "display_name": "SageMath 9.6",
   "language": "sage",
   "name": "sagemath"
  },
  "language_info": {
   "codemirror_mode": {
    "name": "ipython",
    "version": 3
   },
   "file_extension": ".py",
   "mimetype": "text/x-python",
   "name": "python",
   "nbconvert_exporter": "python",
   "pygments_lexer": "ipython3",
   "version": "3.9.13"
  }
 },
 "nbformat": 4,
 "nbformat_minor": 4
}
