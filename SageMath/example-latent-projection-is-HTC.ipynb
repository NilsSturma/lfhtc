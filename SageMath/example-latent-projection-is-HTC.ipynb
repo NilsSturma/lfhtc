{
 "cells": [
  {
   "cell_type": "code",
   "execution_count": 1,
   "metadata": {},
   "outputs": [],
   "source": [
    "import json\n",
    "import numpy as np\n",
    "import pandas as pd\n",
    "\n",
    "load('../utils.sage')\n",
    "load('../check-latent-factor-graph.sage')"
   ]
  },
  {
   "cell_type": "code",
   "execution_count": 3,
   "metadata": {},
   "outputs": [
    {
     "data": {
      "text/plain": [
       "False"
      ]
     },
     "execution_count": 3,
     "metadata": {},
     "output_type": "execute_result"
    }
   ],
   "source": [
    "GammaAdjMatrix = np.transpose(np.array([[1, 1, 1, 1, 0,],\n",
    "                                        [0, 0, 0, 1, 1,],\n",
    "                                        [0, 0, 1, 0, 1,]]))\n",
    "\n",
    "adjMatrix = np.array([[0, 0, 0, 0, 0,],\n",
    "                      [0, 0, 0, 0, 0,], \n",
    "                      [0, 0, 0, 0, 1,], \n",
    "                      [0, 0, 0, 0, 1,], \n",
    "                      [0, 0, 0, 0, 0,]]).flatten().tolist()\n",
    "G = {\"edges\": 2, \"adjMatrix\": adjMatrix}\n",
    "\n",
    "# Generate vanishing ideal of the variety containing the parametrization of Omega\n",
    "I_Omega, basis_Omega = get_vanishing_ideal_Omega(GammaAdjMatrix)\n",
    "\n",
    "g = check_graph(G, GammaAdjMatrix, basis_Omega)\n",
    "g[\"identifiable\"]"
   ]
  },
  {
   "cell_type": "code",
   "execution_count": 7,
   "metadata": {},
   "outputs": [
    {
     "data": {
      "text/plain": [
       "False"
      ]
     },
     "execution_count": 7,
     "metadata": {},
     "output_type": "execute_result"
    }
   ],
   "source": [
    "g[\"finite-to-one\"]"
   ]
  },
  {
   "cell_type": "code",
   "execution_count": 8,
   "metadata": {},
   "outputs": [],
   "source": [
    "# latent-factor graph is not identifiable (and not finite-to-one)\n",
    "# It can be easily checked that the latent projection is HTC-identifiable (and therefore rationally identifiable)"
   ]
  },
  {
   "cell_type": "code",
   "execution_count": 6,
   "metadata": {},
   "outputs": [
    {
     "data": {
      "text/plain": [
       "Ideal (w12*w34 - w14*w23, w13*w24 - w14*w23, w15, w25) of Multivariate Polynomial Ring in w11, w12, w13, w14, w15, w22, w23, w24, w25, w33, w34, w35, w44, w45, w55 over Rational Field"
      ]
     },
     "execution_count": 6,
     "metadata": {},
     "output_type": "execute_result"
    }
   ],
   "source": [
    "I_Omega"
   ]
  },
  {
   "cell_type": "code",
   "execution_count": 5,
   "metadata": {},
   "outputs": [
    {
     "data": {
      "text/plain": [
       "11"
      ]
     },
     "execution_count": 5,
     "metadata": {},
     "output_type": "execute_result"
    }
   ],
   "source": [
    "dim(I_Omega)"
   ]
  },
  {
   "cell_type": "code",
   "execution_count": null,
   "metadata": {},
   "outputs": [],
   "source": []
  }
 ],
 "metadata": {
  "kernelspec": {
   "display_name": "SageMath 9.2",
   "language": "sage",
   "name": "sagemath"
  },
  "language_info": {
   "codemirror_mode": {
    "name": "ipython",
    "version": 3
   },
   "file_extension": ".py",
   "mimetype": "text/x-python",
   "name": "python",
   "nbconvert_exporter": "python",
   "pygments_lexer": "ipython3",
   "version": "3.7.7"
  }
 },
 "nbformat": 4,
 "nbformat_minor": 4
}
