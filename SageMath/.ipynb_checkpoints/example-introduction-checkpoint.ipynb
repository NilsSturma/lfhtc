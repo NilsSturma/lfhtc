{
 "cells": [
  {
   "cell_type": "code",
   "execution_count": 1,
   "metadata": {},
   "outputs": [
    {
     "name": "stdout",
     "output_type": "stream",
     "text": [
      "Defining l23, l24, l25, l26, l34, l35, l45, l56, g1, g3, g4, g6, w1, w2, w3, w4, w5, w6, s11, s12, s13, s14, s15, s16, s22, s23, s24, s25, s26, s33, s34, s35, s36, s44, s45, s46, s55, s56, s66\n"
     ]
    }
   ],
   "source": [
    "n = 39\n",
    "order = 'deglex(8),deglex(4),deglex(6),deglex(21)' # block-monomial order\n",
    "R.<l23,l24,l25,l26,l34,l35,l45,l56, g1,g3,g4,g6, w1,w2,w3,w4,w5,w6,s11,s12,s13,s14,s15,s16,s22,s23,s24,s25,s26,s33,s34,s35,s36,s44,s45,s46,s55,s56,s66> = PolynomialRing(QQ, n, order=order)\n",
    "R.inject_variables()"
   ]
  },
  {
   "cell_type": "code",
   "execution_count": 3,
   "metadata": {},
   "outputs": [
    {
     "data": {
      "text/plain": [
       "[  0   0   0   0   0   0]\n",
       "[  0   0 l23 l24 l25 l26]\n",
       "[  0   0   0 l34 l35   0]\n",
       "[  0   0   0   0 l45   0]\n",
       "[  0   0   0   0   0 l56]\n",
       "[  0   0   0   0   0   0]"
      ]
     },
     "execution_count": 3,
     "metadata": {},
     "output_type": "execute_result"
    }
   ],
   "source": [
    "Lambda = matrix([[0,0,0,0,0,0],\n",
    "                 [0,0,l23,l24,l25,l26],\n",
    "                 [0,0,0,l34,l35,0],\n",
    "                 [0,0,0,0,l45,0],\n",
    "                 [0,0,0,0,0,l56],\n",
    "                 [0,0,0,0,0,0]])\n",
    "Lambda"
   ]
  },
  {
   "cell_type": "code",
   "execution_count": 4,
   "metadata": {},
   "outputs": [
    {
     "data": {
      "text/plain": [
       "[g1  0 g3 g4  0 g6]"
      ]
     },
     "execution_count": 4,
     "metadata": {},
     "output_type": "execute_result"
    }
   ],
   "source": [
    "Gamma = matrix([[g1,0,g3,g4,0,g6]])\n",
    "Gamma"
   ]
  },
  {
   "cell_type": "code",
   "execution_count": 5,
   "metadata": {},
   "outputs": [
    {
     "data": {
      "text/plain": [
       "[w1  0  0  0  0  0]\n",
       "[ 0 w2  0  0  0  0]\n",
       "[ 0  0 w3  0  0  0]\n",
       "[ 0  0  0 w4  0  0]\n",
       "[ 0  0  0  0 w5  0]\n",
       "[ 0  0  0  0  0 w6]"
      ]
     },
     "execution_count": 5,
     "metadata": {},
     "output_type": "execute_result"
    }
   ],
   "source": [
    "Omega_diag = matrix([[w1,0,0,0,0,0],\n",
    "                     [0,w2,0,0,0,0],\n",
    "                     [0,0,w3,0,0,0],\n",
    "                     [0,0,0,w4,0,0],\n",
    "                     [0,0,0,0,w5,0],\n",
    "                     [0,0,0,0,0,w6]])\n",
    "Omega_diag"
   ]
  },
  {
   "cell_type": "code",
   "execution_count": 6,
   "metadata": {},
   "outputs": [
    {
     "data": {
      "text/plain": [
       "[g1^2 + w1         0     g1*g3     g1*g4         0     g1*g6]\n",
       "[        0        w2         0         0         0         0]\n",
       "[    g1*g3         0 g3^2 + w3     g3*g4         0     g3*g6]\n",
       "[    g1*g4         0     g3*g4 g4^2 + w4         0     g4*g6]\n",
       "[        0         0         0         0        w5         0]\n",
       "[    g1*g6         0     g3*g6     g4*g6         0 g6^2 + w6]"
      ]
     },
     "execution_count": 6,
     "metadata": {},
     "output_type": "execute_result"
    }
   ],
   "source": [
    "Omega = Omega_diag + Gamma.T * Gamma\n",
    "Omega"
   ]
  },
  {
   "cell_type": "code",
   "execution_count": 7,
   "metadata": {},
   "outputs": [
    {
     "data": {
      "text/plain": [
       "[s11 s12 s13 s14 s15 s16]\n",
       "[s12 s22 s23 s24 s25 s26]\n",
       "[s13 s23 s33 s34 s35 s36]\n",
       "[s14 s24 s34 s44 s45 s46]\n",
       "[s15 s25 s35 s45 s55 s56]\n",
       "[s16 s26 s36 s46 s56 s66]"
      ]
     },
     "execution_count": 7,
     "metadata": {},
     "output_type": "execute_result"
    }
   ],
   "source": [
    "Sigma = matrix([[s11,s12,s13,s14,s15,s16],\n",
    "                [s12,s22,s23,s24,s25,s26],\n",
    "                [s13,s23,s33,s34,s35,s36],\n",
    "                [s14,s24,s34,s44,s45,s46],\n",
    "                [s15,s25,s35,s45,s55,s56],\n",
    "                [s16,s26,s36,s46,s56,s66]])\n",
    "Sigma"
   ]
  },
  {
   "cell_type": "code",
   "execution_count": 8,
   "metadata": {},
   "outputs": [
    {
     "data": {
      "text/plain": [
       "[1 0 0 0 0 0]\n",
       "[0 1 0 0 0 0]\n",
       "[0 0 1 0 0 0]\n",
       "[0 0 0 1 0 0]\n",
       "[0 0 0 0 1 0]\n",
       "[0 0 0 0 0 1]"
      ]
     },
     "execution_count": 8,
     "metadata": {},
     "output_type": "execute_result"
    }
   ],
   "source": [
    "Id = identity_matrix(6)\n",
    "Id"
   ]
  },
  {
   "cell_type": "code",
   "execution_count": 10,
   "metadata": {},
   "outputs": [],
   "source": [
    "treks = (Id-Lambda).T.inverse() * Omega * (Id-Lambda).inverse()"
   ]
  },
  {
   "cell_type": "markdown",
   "metadata": {},
   "source": [
    "# Identify O_1"
   ]
  },
  {
   "cell_type": "code",
   "execution_count": 11,
   "metadata": {},
   "outputs": [
    {
     "data": {
      "text/plain": [
       "l23"
      ]
     },
     "execution_count": 11,
     "metadata": {},
     "output_type": "execute_result"
    }
   ],
   "source": [
    "treks[1,2]/treks[1,1]"
   ]
  },
  {
   "cell_type": "code",
   "execution_count": 12,
   "metadata": {},
   "outputs": [
    {
     "data": {
      "text/plain": [
       "s23/s22"
      ]
     },
     "execution_count": 12,
     "metadata": {},
     "output_type": "execute_result"
    }
   ],
   "source": [
    "Sigma[1,2]/Sigma[1,1]"
   ]
  },
  {
   "cell_type": "markdown",
   "metadata": {},
   "source": [
    "Finding formulas for the other effects can be done by defining the matrices A and B and the vector c as in the proof of the main result."
   ]
  }
 ],
 "metadata": {
  "kernelspec": {
   "display_name": "SageMath 9.6",
   "language": "sage",
   "name": "sagemath"
  },
  "language_info": {
   "codemirror_mode": {
    "name": "ipython",
    "version": 3
   },
   "file_extension": ".py",
   "mimetype": "text/x-python",
   "name": "python",
   "nbconvert_exporter": "python",
   "pygments_lexer": "ipython3",
   "version": "3.9.13"
  }
 },
 "nbformat": 4,
 "nbformat_minor": 4
}
