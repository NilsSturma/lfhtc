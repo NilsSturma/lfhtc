{
 "cells": [
  {
   "cell_type": "code",
   "execution_count": 9,
   "metadata": {},
   "outputs": [
    {
     "name": "stdout",
     "output_type": "stream",
     "text": [
      "Defining l23, l24, l25, l26, l34, l35, l45, l56, g1, g3, g4, g6, w1, w2, w3, w4, w5, w6, s11, s12, s13, s14, s15, s16, s22, s23, s24, s25, s26, s33, s34, s35, s36, s44, s45, s46, s55, s56, s66\n"
     ]
    }
   ],
   "source": [
    "n = 39\n",
    "order = 'deglex(8),deglex(4),deglex(6),deglex(21)' # block-monomial order\n",
    "R.<l23,l24,l25,l26,l34,l35,l45,l56, g1,g3,g4,g6, w1,w2,w3,w4,w5,w6,s11,s12,s13,s14,s15,s16,s22,s23,s24,s25,s26,s33,s34,s35,s36,s44,s45,s46,s55,s56,s66> = PolynomialRing(QQ, n, order=order)\n",
    "R.inject_variables()"
   ]
  },
  {
   "cell_type": "code",
   "execution_count": 15,
   "metadata": {},
   "outputs": [
    {
     "data": {
      "text/plain": [
       "[  0   0   0   0   0   0]\n",
       "[  0   0 l23 l24 l25 l26]\n",
       "[  0   0   0 l34 l35   0]\n",
       "[  0   0   0   0 l45   0]\n",
       "[  0   0   0   0   0 l56]\n",
       "[  0   0   0   0   0   0]"
      ]
     },
     "execution_count": 15,
     "metadata": {},
     "output_type": "execute_result"
    }
   ],
   "source": [
    "Lambda = matrix([[0,0,0,0,0,0],\n",
    "                 [0,0,l23,l24,l25,l26],\n",
    "                 [0,0,0,l34,l35,0],\n",
    "                 [0,0,0,0,l45,0],\n",
    "                 [0,0,0,0,0,l56],\n",
    "                 [0,0,0,0,0,0]])\n",
    "Lambda"
   ]
  },
  {
   "cell_type": "code",
   "execution_count": 10,
   "metadata": {},
   "outputs": [
    {
     "data": {
      "text/plain": [
       "[g1  0 g3 g4  0 g6]"
      ]
     },
     "execution_count": 10,
     "metadata": {},
     "output_type": "execute_result"
    }
   ],
   "source": [
    "Gamma = matrix([[g1,0,g3,g4,0,g6]])\n",
    "Gamma"
   ]
  },
  {
   "cell_type": "code",
   "execution_count": 11,
   "metadata": {},
   "outputs": [
    {
     "data": {
      "text/plain": [
       "[w1  0  0  0  0  0]\n",
       "[ 0 w2  0  0  0  0]\n",
       "[ 0  0 w3  0  0  0]\n",
       "[ 0  0  0 w4  0  0]\n",
       "[ 0  0  0  0 w5  0]\n",
       "[ 0  0  0  0  0 w6]"
      ]
     },
     "execution_count": 11,
     "metadata": {},
     "output_type": "execute_result"
    }
   ],
   "source": [
    "Omega_diag = matrix([[w1,0,0,0,0,0],\n",
    "                     [0,w2,0,0,0,0],\n",
    "                     [0,0,w3,0,0,0],\n",
    "                     [0,0,0,w4,0,0],\n",
    "                     [0,0,0,0,w5,0],\n",
    "                     [0,0,0,0,0,w6]])\n",
    "Omega_diag"
   ]
  },
  {
   "cell_type": "code",
   "execution_count": 12,
   "metadata": {},
   "outputs": [
    {
     "data": {
      "text/plain": [
       "[g1^2 + w1         0     g1*g3     g1*g4         0     g1*g6]\n",
       "[        0        w2         0         0         0         0]\n",
       "[    g1*g3         0 g3^2 + w3     g3*g4         0     g3*g6]\n",
       "[    g1*g4         0     g3*g4 g4^2 + w4         0     g4*g6]\n",
       "[        0         0         0         0        w5         0]\n",
       "[    g1*g6         0     g3*g6     g4*g6         0 g6^2 + w6]"
      ]
     },
     "execution_count": 12,
     "metadata": {},
     "output_type": "execute_result"
    }
   ],
   "source": [
    "Omega = Omega_diag + Gamma.T * Gamma\n",
    "Omega"
   ]
  },
  {
   "cell_type": "code",
   "execution_count": 13,
   "metadata": {},
   "outputs": [
    {
     "data": {
      "text/plain": [
       "[s11 s12 s13 s14 s15 s16]\n",
       "[s12 s22 s23 s24 s25 s26]\n",
       "[s13 s23 s33 s34 s35 s36]\n",
       "[s14 s24 s34 s44 s45 s46]\n",
       "[s15 s25 s35 s45 s55 s56]\n",
       "[s16 s26 s36 s46 s56 s66]"
      ]
     },
     "execution_count": 13,
     "metadata": {},
     "output_type": "execute_result"
    }
   ],
   "source": [
    "Sigma = matrix([[s11,s12,s13,s14,s15,s16],\n",
    "                [s12,s22,s23,s24,s25,s26],\n",
    "                [s13,s23,s33,s34,s35,s36],\n",
    "                [s14,s24,s34,s44,s45,s46],\n",
    "                [s15,s25,s35,s45,s55,s56],\n",
    "                [s16,s26,s36,s46,s56,s66]])\n",
    "Sigma"
   ]
  },
  {
   "cell_type": "code",
   "execution_count": 16,
   "metadata": {},
   "outputs": [
    {
     "data": {
      "text/plain": [
       "[1 0 0 0 0 0]\n",
       "[0 1 0 0 0 0]\n",
       "[0 0 1 0 0 0]\n",
       "[0 0 0 1 0 0]\n",
       "[0 0 0 0 1 0]\n",
       "[0 0 0 0 0 1]"
      ]
     },
     "execution_count": 16,
     "metadata": {},
     "output_type": "execute_result"
    }
   ],
   "source": [
    "Id = identity_matrix(6)\n",
    "Id"
   ]
  },
  {
   "cell_type": "code",
   "execution_count": 132,
   "metadata": {},
   "outputs": [],
   "source": [
    "treks = (Id-Lambda).T.inverse() * Omega * (Id-Lambda).inverse()"
   ]
  },
  {
   "cell_type": "markdown",
   "metadata": {},
   "source": [
    "# Identify O_1"
   ]
  },
  {
   "cell_type": "code",
   "execution_count": 35,
   "metadata": {},
   "outputs": [
    {
     "data": {
      "text/plain": [
       "l23*w2"
      ]
     },
     "execution_count": 35,
     "metadata": {},
     "output_type": "execute_result"
    }
   ],
   "source": [
    "treks[1,2]/treks[1,1]"
   ]
  },
  {
   "cell_type": "code",
   "execution_count": 39,
   "metadata": {},
   "outputs": [
    {
     "data": {
      "text/plain": [
       "s23/s22"
      ]
     },
     "execution_count": 39,
     "metadata": {},
     "output_type": "execute_result"
    }
   ],
   "source": [
    "Sigma[1,2]/Sigma[1,1]"
   ]
  },
  {
   "cell_type": "markdown",
   "metadata": {},
   "source": [
    "# Identify T_2"
   ]
  },
  {
   "cell_type": "code",
   "execution_count": 36,
   "metadata": {},
   "outputs": [
    {
     "data": {
      "text/plain": [
       "[                                                                                                                                                                                       l23*l34*l45*w2 + l23*l35*w2 + l24*l45*w2 + l25*w2]\n",
       "[                                                                                                               l23^2*l34*l45*w2 + l23^2*l35*w2 + l23*l24*l45*w2 + l23*l25*w2 + l34*l45*g3^2 + l34*l45*w3 + l35*g3^2 + l35*w3 + l45*g3*g4]\n",
       "[l23^2*l34^2*l45*w2 + l23^2*l34*l35*w2 + 2*l23*l24*l34*l45*w2 + l23*l24*l35*w2 + l23*l25*l34*w2 + l24^2*l45*w2 + l34^2*l45*g3^2 + l34^2*l45*w3 + l24*l25*w2 + l34*l35*g3^2 + l34*l35*w3 + 2*l34*l45*g3*g4 + l35*g3*g4 + l45*g4^2 + l45*w4]"
      ]
     },
     "execution_count": 36,
     "metadata": {},
     "output_type": "execute_result"
    }
   ],
   "source": [
    "treks[[1,2,3],4]"
   ]
  },
  {
   "cell_type": "code",
   "execution_count": 37,
   "metadata": {},
   "outputs": [
    {
     "data": {
      "text/plain": [
       "[l25]\n",
       "[l35]\n",
       "[l45]"
      ]
     },
     "execution_count": 37,
     "metadata": {},
     "output_type": "execute_result"
    }
   ],
   "source": [
    "treks[[1,2,3],[1,2,3]].inverse() * treks[[1,2,3],4]"
   ]
  },
  {
   "cell_type": "code",
   "execution_count": 38,
   "metadata": {},
   "outputs": [
    {
     "data": {
      "text/plain": [
       "[ (s23*s34*s45 - s23*s35*s44 - s24*s33*s45 + s24*s34*s35 + s25*s33*s44 - s25*s34^2)/(s22*s33*s44 - s22*s34^2 - s23^2*s44 + 2*s23*s24*s34 - s24^2*s33)]\n",
       "[(-s22*s34*s45 + s22*s35*s44 + s23*s24*s45 - s23*s25*s44 - s24^2*s35 + s24*s25*s34)/(s22*s33*s44 - s22*s34^2 - s23^2*s44 + 2*s23*s24*s34 - s24^2*s33)]\n",
       "[ (s22*s33*s45 - s22*s34*s35 - s23^2*s45 + s23*s24*s35 + s23*s25*s34 - s24*s25*s33)/(s22*s33*s44 - s22*s34^2 - s23^2*s44 + 2*s23*s24*s34 - s24^2*s33)]"
      ]
     },
     "execution_count": 38,
     "metadata": {},
     "output_type": "execute_result"
    }
   ],
   "source": [
    "Sigma[[1,2,3],[1,2,3]].inverse() * Sigma[[1,2,3],4]"
   ]
  },
  {
   "cell_type": "markdown",
   "metadata": {},
   "source": [
    "# Identify O_3"
   ]
  },
  {
   "cell_type": "code",
   "execution_count": 92,
   "metadata": {},
   "outputs": [
    {
     "data": {
      "text/plain": [
       "[                                               w2 l23*l34*l45*w2 + l23*l35*w2 + l24*l45*w2 + l25*w2]\n",
       "[                                                0                                                w5]"
      ]
     },
     "execution_count": 92,
     "metadata": {},
     "output_type": "execute_result"
    }
   ],
   "source": [
    "A = matrix([[treks[1,1], treks[1,4]], \n",
    "            [((Id-Lambda).T * treks)[4,1], ((Id-Lambda).T * treks)[4,4]]])\n",
    "A"
   ]
  },
  {
   "cell_type": "code",
   "execution_count": 93,
   "metadata": {},
   "outputs": [
    {
     "data": {
      "text/plain": [
       "[l23*l34*l45*l56*w2 + l23*l35*l56*w2 + l24*l45*l56*w2 + l25*l56*w2 + l26*w2]\n",
       "[                                                                    l56*w5]"
      ]
     },
     "execution_count": 93,
     "metadata": {},
     "output_type": "execute_result"
    }
   ],
   "source": [
    "b = matrix([[treks[1,5]],\n",
    "            [((Id-Lambda).T * treks)[4,5]]])\n",
    "b"
   ]
  },
  {
   "cell_type": "code",
   "execution_count": 98,
   "metadata": {},
   "outputs": [
    {
     "data": {
      "text/plain": [
       "[                                       1/w2 (-l23*l34*l45 - l23*l35 - l24*l45 - l25)/w5]\n",
       "[                                          0                                        1/w5]"
      ]
     },
     "execution_count": 98,
     "metadata": {},
     "output_type": "execute_result"
    }
   ],
   "source": [
    "A.inverse() #* b"
   ]
  },
  {
   "cell_type": "code",
   "execution_count": 95,
   "metadata": {},
   "outputs": [
    {
     "data": {
      "text/plain": [
       "[                               s22                                s25]\n",
       "[-l25*s22 - l35*s23 - l45*s24 + s25 -l25*s25 - l35*s35 - l45*s45 + s55]"
      ]
     },
     "execution_count": 95,
     "metadata": {},
     "output_type": "execute_result"
    }
   ],
   "source": [
    "AS = matrix([[Sigma[1,1], Sigma[1,4]], \n",
    "            [((Id-Lambda).T * Sigma)[4,1], ((Id-Lambda).T * Sigma)[4,4]]])\n",
    "AS"
   ]
  },
  {
   "cell_type": "code",
   "execution_count": 96,
   "metadata": {},
   "outputs": [
    {
     "data": {
      "text/plain": [
       "[                               s26]\n",
       "[-l25*s26 - l35*s36 - l45*s46 + s56]"
      ]
     },
     "execution_count": 96,
     "metadata": {},
     "output_type": "execute_result"
    }
   ],
   "source": [
    "bS = matrix([[Sigma[1,5]],\n",
    "            [((Id-Lambda).T * Sigma)[4,5]]])\n",
    "bS"
   ]
  },
  {
   "cell_type": "code",
   "execution_count": 97,
   "metadata": {},
   "outputs": [
    {
     "data": {
      "text/plain": [
       "[ (l35*s25*s36 - l35*s26*s35 + l45*s25*s46 - l45*s26*s45 - s25*s56 + s26*s55)/(-l35*s22*s35 + l35*s23*s25 - l45*s22*s45 + l45*s24*s25 + s22*s55 - s25^2)]\n",
       "[(-l35*s22*s36 + l35*s23*s26 - l45*s22*s46 + l45*s24*s26 + s22*s56 - s25*s26)/(-l35*s22*s35 + l35*s23*s25 - l45*s22*s45 + l45*s24*s25 + s22*s55 - s25^2)]"
      ]
     },
     "execution_count": 97,
     "metadata": {},
     "output_type": "execute_result"
    }
   ],
   "source": [
    "AS.inverse() * bS"
   ]
  },
  {
   "cell_type": "markdown",
   "metadata": {},
   "source": [
    "### Rational formula for linear direct effect from T_2 on O_3"
   ]
  },
  {
   "cell_type": "code",
   "execution_count": 131,
   "metadata": {},
   "outputs": [
    {
     "data": {
      "text/plain": [
       "((s22*s33*s44*s56 - s22*s33*s45*s46 - s22*s34^2*s56 + s22*s34*s35*s46 + s22*s34*s36*s45 - s22*s35*s36*s44 - s23^2*s44*s56 + s23^2*s45*s46 + 2*s23*s24*s34*s56 - s23*s24*s35*s46 - s23*s24*s36*s45 - s23*s25*s34*s46 + s23*s25*s36*s44 - s23*s26*s34*s45 + s23*s26*s35*s44 - s24^2*s33*s56 + s24^2*s35*s36 + s24*s25*s33*s46 - s24*s25*s34*s36 + s24*s26*s33*s45 - s24*s26*s34*s35 - s25*s26*s33*s44 + s25*s26*s34^2)/(s22*s33*s44*s55 - s22*s33*s45^2 - s22*s34^2*s55 + 2*s22*s34*s35*s45 - s22*s35^2*s44 - s23^2*s44*s55 + s23^2*s45^2 + 2*s23*s24*s34*s55 - 2*s23*s24*s35*s45 - 2*s23*s25*s34*s45 + 2*s23*s25*s35*s44 - s24^2*s33*s55 + s24^2*s35^2 + 2*s24*s25*s33*s45 - 2*s24*s25*s34*s35 - s25^2*s33*s44 + s25^2*s34^2))"
      ]
     },
     "execution_count": 131,
     "metadata": {},
     "output_type": "execute_result"
    }
   ],
   "source": [
    "f = (AS.inverse() * bS)[1]\n",
    "f(l35=((-s22*s34*s45 + s22*s35*s44 + s23*s24*s45 - s23*s25*s44 - s24^2*s35 + s24*s25*s34)/(s22*s33*s44 - s22*s34^2 - s23^2*s44 + 2*s23*s24*s34 - s24^2*s33)), \n",
    "  l45=((s22*s33*s45 - s22*s34*s35 - s23^2*s45 + s23*s24*s35 + s23*s25*s34 - s24*s25*s33)/(s22*s33*s44 - s22*s34^2 - s23^2*s44 + 2*s23*s24*s34 - s24^2*s33)))"
   ]
  },
  {
   "cell_type": "code",
   "execution_count": null,
   "metadata": {},
   "outputs": [],
   "source": []
  }
 ],
 "metadata": {
  "kernelspec": {
   "display_name": "SageMath 9.2",
   "language": "sage",
   "name": "sagemath"
  },
  "language_info": {
   "codemirror_mode": {
    "name": "ipython",
    "version": 3
   },
   "file_extension": ".py",
   "mimetype": "text/x-python",
   "name": "python",
   "nbconvert_exporter": "python",
   "pygments_lexer": "ipython3",
   "version": "3.7.7"
  }
 },
 "nbformat": 4,
 "nbformat_minor": 4
}
